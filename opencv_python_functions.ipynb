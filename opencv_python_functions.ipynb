{
  "nbformat": 4,
  "nbformat_minor": 0,
  "metadata": {
    "colab": {
      "name": "opencv_python_functions.ipynb",
      "provenance": [],
      "collapsed_sections": []
    },
    "kernelspec": {
      "name": "python3",
      "display_name": "Python 3"
    }
  },
  "cells": [
    {
      "cell_type": "code",
      "metadata": {
        "id": "HrfpSxQOhrSH",
        "colab_type": "code",
        "colab": {}
      },
      "source": [
        "import cv2\n",
        "import numpy as np \n",
        "import matplotlib.pyplot as plt\n",
        "from google.colab.patches import cv2_imshow\n",
        "from scipy.fftpack import fft\n"
      ],
      "execution_count": 0,
      "outputs": []
    },
    {
      "cell_type": "code",
      "metadata": {
        "id": "nlw7TG5TmTgT",
        "colab_type": "code",
        "colab": {}
      },
      "source": [
        "!pip install --upgrade imutils\n",
        "import imutlis\n",
        "\n",
        "def rotate_image(image):\n",
        "    # loop over the rotation angles\n",
        "    for angle in np.arange(0, 360, 15):\n",
        "\t    rotated = imutils.rotate(image, angle)\n",
        "\t    cv2_imshow(rotated)\n",
        "\t    cv2.waitKey(0)\n",
        "     \n",
        "    # loop over the rotation angles again, this time ensuring\n",
        "    # no part of the image is cut off\n",
        "    for angle in np.arange(0, 360, 5):\n",
        "        rotated = imutils.rotate_bound(image, angle)\n",
        "        # rotated_arr = np.mean(rotated, axis=0)\n",
        "        rotated_mean = np.sum(rotated, axis=0) / np.count_nonzero(rotated, axis=0)\n",
        "        # oneD_fft(rotated_mean[:256])\n",
        "        print(angle)\n",
        "        plt.plot(rotated_mean)\n",
        "        plt.show()\n",
        "        # print( np.count_nonzero(rotated, axis=0))\n",
        "        cv2_imshow(rotated)\n",
        "        cv2.waitKey(0)\n"
      ],
      "execution_count": 0,
      "outputs": []
    },
    {
      "cell_type": "code",
      "metadata": {
        "id": "OSZLTXxInDCo",
        "colab_type": "code",
        "colab": {}
      },
      "source": [
        "def resize_hist_equalization(img):\n",
        "\n",
        "    img_gray = cv2.cvtColor(img, cv2.COLOR_BGR2GRAY)\n",
        "    \n",
        "    # Resize\n",
        "    scale_percent = 2\n",
        "    width = int(img.shape[1] * scale_percent)\n",
        "    height = int(img.shape[0] * scale_percent)\n",
        "    dim = (width, height)\n",
        "    img_resized = cv2.resize(img_gray, dim, interpolation = cv2.INTER_AREA)\n",
        "    cv2_imshow(img_resized) \n",
        "\n",
        "    # Alternative way to find histogram of an image \n",
        "    plt.hist(img_gray.ravel(), 256, [0,256]) \n",
        "    plt.show() \n",
        "    \n",
        "    # Image equalization\n",
        "    img_equ = cv2.equalizeHist(img_gray) \n",
        "    plt.hist(img_equ.ravel(), 256, [0,256]) \n",
        "    plt.show() \n",
        "    cv2_imshow(img_equ) \n"
      ],
      "execution_count": 0,
      "outputs": []
    },
    {
      "cell_type": "code",
      "metadata": {
        "id": "zSQRbZnJqjV6",
        "colab_type": "code",
        "colab": {}
      },
      "source": [
        "def morphological_process(img):\n",
        "\n",
        "    img = cv2.cvtColor(img, cv2.COLOR_BGR2GRAY)\n",
        "\n",
        "    kernel = np.ones((3, 3), np.uint8)\n",
        "    # erosion\n",
        "    img_erosion = cv2.erode(img, kernel)\n",
        "    cv2_imshow(img_erosion)\n",
        "\n",
        "    # dilation\n",
        "    img_dilation = cv2.dilate(img, kernel)\n",
        "    cv2_imshow(img_dilation)\n",
        "\n",
        "    # opening\n",
        "    img_opening = cv2.morphologyEx(img, cv2.MORPH_OPEN, kernel)\n",
        "    cv2_imshow(img_opening)\n",
        "\n",
        "    # closing\n",
        "    img_closing = cv2.morphologyEx(img, cv2.MORPH_CLOSE, kernel) \n",
        "    cv2_imshow(img_closing)\n",
        "\n",
        "    # morphological gradient: dilation - erosion = contours\n",
        "    img_gradient = cv2.morphologyEx(img, cv2.MORPH_GRADIENT, kernel)\n",
        "    cv2_imshow(img_gradient)\n",
        "\n",
        "    # tophat = src - opening\n",
        "    tophat = cv2.morphologyEx(img, cv2.MORPH_TOPHAT, kernel)\n",
        "    cv2_imshow(tophat)\n",
        "\n",
        "    # blackhat = closing - src\n",
        "    blackhat = cv2.morphologyEx(img, cv2.MORPH_BLACKHAT, kernel)\n",
        "    cv2_imshow(blackhat)\n"
      ],
      "execution_count": 0,
      "outputs": []
    },
    {
      "cell_type": "code",
      "metadata": {
        "id": "8bIo9AsBqQa0",
        "colab_type": "code",
        "colab": {}
      },
      "source": [
        "def inverse_color(img):\n",
        "    \n",
        "    img = cv2.cvtColor(img, cv2.COLOR_BGR2GRAY)\n",
        "    height,width = img.shape\n",
        "    img_reverse = img.copy()\n",
        "\n",
        "    for i in range(height):\n",
        "        for j in range(width):\n",
        "            # For GRAY_SCALE image\n",
        "            img_reverse[i,j] = 255 - img[i,j]\n",
        "            # for R.G.B image: \n",
        "            # img_reverse[i,j] = (255-img[i,j][0], 255-img[i,j][1], 255-img[i,j][2])\n",
        "            \n",
        "    cv2_imshow(img_reverse)\n"
      ],
      "execution_count": 0,
      "outputs": []
    },
    {
      "cell_type": "code",
      "metadata": {
        "id": "Req5usXCF9j1",
        "colab_type": "code",
        "colab": {}
      },
      "source": [
        "def hsv_process(img):\n",
        "\n",
        "    img_hsv = cv2.cvtColor(img, cv2.COLOR_BGR2HSV)\n",
        "    h, s, v = cv2.split(img_hsv)\n",
        "\n",
        "    # lower_blue = np.array([110,50,50])\n",
        "    # upper_blue = np.array([130,255,255])\n",
        "    # mask = cv2.inRange(img_hsv, lower_blue, upper_blue) \n",
        "\n",
        "    cv2_imshow(h)\n",
        "    cv2_imshow(s)\n",
        "    cv2_imshow(v)\n",
        "    "
      ],
      "execution_count": 0,
      "outputs": []
    },
    {
      "cell_type": "code",
      "metadata": {
        "id": "cLL3kJlaGEBh",
        "colab_type": "code",
        "colab": {}
      },
      "source": [
        "def rgb_process(img):\n",
        "\n",
        "    b, g, r = cv2.split(img)\n",
        "    cv2_imshow(b)\n",
        "    cv2_imshow(g)\n",
        "    cv2_imshow(r)\n"
      ],
      "execution_count": 0,
      "outputs": []
    },
    {
      "cell_type": "code",
      "metadata": {
        "id": "G0BcPbhWGJN9",
        "colab_type": "code",
        "colab": {}
      },
      "source": [
        "def play_video():\n",
        "\n",
        "    cap = cv2.VideoCapture('mask.mp4')\n",
        "    count = 0\n",
        "    while(cap.isOpened()):\n",
        "        ret, frame = cap.read()\n",
        "\n",
        "        gray = cv2.cvtColor(frame, cv2.COLOR_BGR2GRAY)\n",
        "        cv2.imwrite(\"frame%d.jpg\" % count, frame)\n",
        "        cv2_imshow(gray)\n",
        "        \n",
        "        if cv2.waitKey(1) & 0xFF == ord('q'):\n",
        "            break\n",
        "        count += 1\n",
        "        \n",
        "    cap.release()\n",
        "    cv2.destroyAllWindows()\n"
      ],
      "execution_count": 0,
      "outputs": []
    },
    {
      "cell_type": "code",
      "metadata": {
        "id": "b4DyHrT0sBij",
        "colab_type": "code",
        "colab": {}
      },
      "source": [
        "def hough_transform(img):\n",
        "    '''Finds line segments in a binary image using the probabilistic Hough transform.'''\n",
        "\n",
        "    img_gray = cv2.cvtColor(img, cv2.COLOR_BGR2GRAY)\n",
        "    img_edges = cv2.Canny(img_gray,50,150,apertureSize = 3)\n",
        "    cv2_imshow(img_edges)\n",
        "\n",
        "    minLineLength = 100 \n",
        "    maxLineGap = 5 \n",
        "    \n",
        "    # lines – Output vector of lines. Each line is represented by a 4-element vector (x_1, y_1, x_2, y_2)\n",
        "    # image – 8-bit, single-channel binary image. The image may be modified by the function. better be the canny edges\n",
        "    # rho – Distance resolution of the accumulator in pixels. e.g., 1.0 \n",
        "    # theta – Angle resolution of the accumulator in radians. e.g., numpy.pi/180 \n",
        "    # threshold – Accumulator threshold parameter. Only those lines are returned that get enough votes, e.g.,100\n",
        "    # minLineLength – Minimum line length. Line segments shorter than that are rejected.\n",
        "    # maxLineGap – Maximum allowed gap between points on the same line to link them. exceed the gap, take it as one line\n",
        "\n",
        "    lines = cv2.HoughLinesP(img_edges, 1, np.pi/180, 90, minLineLength, maxLineGap)\n",
        "    img_black = np.zeros((img_gray.shape[0], img_gray.shape[1]))\n",
        "\n",
        "    for x in range(0, len(lines)):\n",
        "        for x1, y1, x2, y2 in lines[x]:\n",
        "           cv2.line(img_black, (x1, y1), (x2, y2), 255, 1)\n",
        "    cv2_imshow(img_black)\n",
        "\n",
        "# https://opencv-python-tutroals.readthedocs.io/en/latest/py_tutorials/py_imgproc/py_houghlines/py_houghlines.html\n"
      ],
      "execution_count": 0,
      "outputs": []
    },
    {
      "cell_type": "code",
      "metadata": {
        "id": "jwI6wjwJxRQD",
        "colab_type": "code",
        "colab": {}
      },
      "source": [
        "def find_contours(img):\n",
        "    \n",
        "    img_gray = cv2.cvtColor(img, cv2.COLOR_BGR2GRAY)\n",
        "    ret, img_binary = cv2.threshold (img_gray, 127, 255, cv2.THRESH_BINARY )\n",
        "    contours, hierarchy = cv2.findContours(img_binary, cv2.RETR_EXTERNAL, cv2.CHAIN_APPROX_NONE)\n",
        "\n",
        "    img_black = np.zeros((img_gray.shape[0], img_gray.shape[1], 1), np.uint8)\n",
        "    cv2.drawContours(img_black, contours, -1, 255, 1) # contourIdx –1, means all the contours are drawn.\n",
        "    cv2_imshow(img_black) \n",
        "\n",
        "    new_contours = [] \n",
        "    threshold_area = 100\n",
        "    for cnt in contours:        \n",
        "        area = cv2.contourArea(cnt)        \n",
        "        if area > threshold_area:                   \n",
        "            new_contours.append(cnt)\n",
        "\n",
        "    img_black1 = np.zeros((img_gray.shape[0], img_gray.shape[1], 1), np.uint8) #---black in RGB\n",
        "    cv2.drawContours(img_black1, new_contours, -1, 255, 1) \n",
        "    cv2_imshow(img_black1) \n"
      ],
      "execution_count": 0,
      "outputs": []
    },
    {
      "cell_type": "code",
      "metadata": {
        "id": "YFieD0Qb2BsV",
        "colab_type": "code",
        "colab": {}
      },
      "source": [
        "def corner_point(img):\n",
        "    '''Determines strong corners on an image.'''\n",
        "\n",
        "    img_gray = cv2.cvtColor(img, cv2.COLOR_BGR2GRAY)\n",
        "    #img_gray  = np.float32(img_gray)\n",
        "\n",
        "    corners = cv2.goodFeaturesToTrack(img_gray, 25, 0.01, 10)\n",
        "    #corners = np.int0(corners)\n",
        "\n",
        "    for corner in corners:\n",
        "        x, y = corner.ravel()\n",
        "        cv2.circle(img, (x, y), 3, (255, 0, 0), -1)\n",
        "\n",
        "    cv2_imshow(img)\n"
      ],
      "execution_count": 0,
      "outputs": []
    },
    {
      "cell_type": "code",
      "metadata": {
        "id": "Tu9XVTF_TF57",
        "colab_type": "code",
        "colab": {}
      },
      "source": [
        "# img = cv2.imread('lenna.png') \n",
        "# corner_point(img)"
      ],
      "execution_count": 0,
      "outputs": []
    }
  ]
}